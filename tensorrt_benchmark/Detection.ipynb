{
 "cells": [
  {
   "cell_type": "markdown",
   "id": "5fc29523",
   "metadata": {},
   "source": [
    "## Create a model and export it as ONNX"
   ]
  },
  {
   "cell_type": "code",
   "execution_count": null,
   "id": "55796e45",
   "metadata": {},
   "outputs": [],
   "source": [
    "import torch\n",
    "\n",
    "batch_size = 1\n",
    "device = 'cuda'\n",
    "model = torch.hub.load('ultralytics/yolov5', 'yolov5s').to(device)"
   ]
  },
  {
   "cell_type": "markdown",
   "id": "cbb0f37e",
   "metadata": {},
   "source": [
    "After training..."
   ]
  },
  {
   "cell_type": "code",
   "execution_count": null,
   "id": "611d5fbb",
   "metadata": {},
   "outputs": [],
   "source": [
    "torch.save(model.state_dict(), './models/obj.pt')"
   ]
  },
  {
   "cell_type": "code",
   "execution_count": null,
   "id": "d82bf39a",
   "metadata": {},
   "outputs": [],
   "source": [
    "dummy_input = torch.randn(batch_size, 3, 256, 256).to(device)\n",
    "\n",
    "with torch.no_grad():\n",
    "    print(model(dummy_input).shape)\n",
    "\n",
    "torch.onnx.export(model, dummy_input, './models/obj.onnx')"
   ]
  },
  {
   "cell_type": "markdown",
   "id": "627f2d7e",
   "metadata": {},
   "source": [
    "## Convert the ONNX model to TensorRT engine"
   ]
  },
  {
   "cell_type": "code",
   "execution_count": null,
   "id": "6c16bd9a",
   "metadata": {},
   "outputs": [],
   "source": [
    "# Restart notebook kernel\n",
    "import os\n",
    "os._exit(00)"
   ]
  },
  {
   "cell_type": "markdown",
   "id": "a120d0bb",
   "metadata": {},
   "source": [
    "- Convert to FP32 engine"
   ]
  },
  {
   "cell_type": "code",
   "execution_count": null,
   "id": "e77766d3",
   "metadata": {
    "scrolled": true
   },
   "outputs": [],
   "source": [
    "!trtexec --onnx=./models/obj.onnx --saveEngine=./models/obj_32.engine "
   ]
  },
  {
   "cell_type": "markdown",
   "id": "71a3556d",
   "metadata": {},
   "source": [
    "- Convert to FP16 engine"
   ]
  },
  {
   "cell_type": "code",
   "execution_count": null,
   "id": "58fa39e8",
   "metadata": {
    "scrolled": true
   },
   "outputs": [],
   "source": [
    "!trtexec --onnx=./models/obj.onnx --saveEngine=./models/obj_16.engine --fp16 "
   ]
  },
  {
   "cell_type": "markdown",
   "id": "0d070253",
   "metadata": {},
   "source": [
    "## Benchmark"
   ]
  },
  {
   "cell_type": "code",
   "execution_count": null,
   "id": "b445fd96",
   "metadata": {},
   "outputs": [],
   "source": [
    "from benchmark import NativeTorchBenchmark, TensorRTBehcnmark, TorchScriptBenchmark\n",
    "import numpy as np\n",
    "import torch\n",
    "\n",
    "n_infers = 100\n",
    "batch_size = 1\n",
    "input_image = np.random.normal(size=[batch_size, 3, 256, 256])"
   ]
  },
  {
   "cell_type": "markdown",
   "id": "da58b5ab",
   "metadata": {},
   "source": [
    "- Native PyTorch"
   ]
  },
  {
   "cell_type": "code",
   "execution_count": null,
   "id": "6c839255",
   "metadata": {},
   "outputs": [],
   "source": [
    "model = torch.hub.load('ultralytics/yolov5', 'yolov5s')\n",
    "\n",
    "pt_bm = NativeTorchBenchmark(n_infers=n_infers,\n",
    "                             batch_size=batch_size,\n",
    "                             samples=input_image,\n",
    "                             model_arch=model,\n",
    "                             model_ckpt='./models/obj.pt')"
   ]
  },
  {
   "cell_type": "code",
   "execution_count": null,
   "id": "52d6d49d",
   "metadata": {},
   "outputs": [],
   "source": [
    "pt_bm.benchmark()"
   ]
  },
  {
   "cell_type": "markdown",
   "id": "9caec02b",
   "metadata": {},
   "source": [
    "- Torch Script"
   ]
  },
  {
   "cell_type": "markdown",
   "id": "125b531c",
   "metadata": {},
   "source": [
    "not support"
   ]
  },
  {
   "cell_type": "markdown",
   "id": "b01c5583",
   "metadata": {},
   "source": [
    "- TensorRT FP32"
   ]
  },
  {
   "cell_type": "code",
   "execution_count": null,
   "id": "81912479",
   "metadata": {},
   "outputs": [],
   "source": [
    "trt_bm_fp32 = TensorRTBehcnmark(n_infers=n_infers,\n",
    "                                batch_size=batch_size,\n",
    "                                samples=input_image,\n",
    "                                engine_path='./models/obj_32.engine')"
   ]
  },
  {
   "cell_type": "code",
   "execution_count": null,
   "id": "3c4566bc",
   "metadata": {},
   "outputs": [],
   "source": [
    "trt_bm_fp32.benchmark()"
   ]
  },
  {
   "cell_type": "markdown",
   "id": "9f4a39b5",
   "metadata": {},
   "source": [
    "- TensorRT FP16"
   ]
  },
  {
   "cell_type": "code",
   "execution_count": null,
   "id": "b4b4e289",
   "metadata": {},
   "outputs": [],
   "source": [
    "trt_bm_fp16 = TensorRTBehcnmark(n_infers=n_infers,\n",
    "                                batch_size=batch_size,\n",
    "                                samples=input_image,\n",
    "                                engine_path='./models/obj_16.engine')"
   ]
  },
  {
   "cell_type": "code",
   "execution_count": null,
   "id": "35e523a8",
   "metadata": {},
   "outputs": [],
   "source": [
    "trt_bm_fp16.benchmark()"
   ]
  },
  {
   "cell_type": "code",
   "execution_count": null,
   "id": "435fc5c0",
   "metadata": {},
   "outputs": [],
   "source": []
  }
 ],
 "metadata": {
  "kernelspec": {
   "display_name": "Python 3 (ipykernel)",
   "language": "python",
   "name": "python3"
  },
  "language_info": {
   "codemirror_mode": {
    "name": "ipython",
    "version": 3
   },
   "file_extension": ".py",
   "mimetype": "text/x-python",
   "name": "python",
   "nbconvert_exporter": "python",
   "pygments_lexer": "ipython3",
   "version": "3.8.10"
  }
 },
 "nbformat": 4,
 "nbformat_minor": 5
}
