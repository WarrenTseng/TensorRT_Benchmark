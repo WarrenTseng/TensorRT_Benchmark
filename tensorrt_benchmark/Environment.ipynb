{
 "cells": [
  {
   "cell_type": "code",
   "execution_count": 1,
   "id": "4920742a",
   "metadata": {},
   "outputs": [
    {
     "name": "stdout",
     "output_type": "stream",
     "text": [
      "TensorRT version: 8.6.1\n",
      "PyCuda version: (2022, 2, 2)\n",
      "Torch version: 2.1.0a0+fe05266\n",
      "MONAI version: 1.2.0\n",
      "einops version: 0.6.1\n",
      "seaborn version: 0.12.2\n",
      "ultralytics version: 8.0.117\n",
      "Scikit-Image version: 0.21.0\n"
     ]
    }
   ],
   "source": [
    "import tensorrt as trt\n",
    "import pycuda\n",
    "import torch\n",
    "import monai\n",
    "import einops\n",
    "import seaborn\n",
    "import ultralytics\n",
    "import skimage\n",
    "\n",
    "print('TensorRT version:', trt.__version__)\n",
    "print('PyCuda version:', pycuda.VERSION)\n",
    "print('Torch version:', torch.__version__)\n",
    "print('MONAI version:', monai.__version__)\n",
    "print('einops version:', einops.__version__)\n",
    "print('seaborn version:', seaborn.__version__)\n",
    "print('ultralytics version:', ultralytics.__version__)\n",
    "print('Scikit-Image version:', skimage.__version__)"
   ]
  },
  {
   "cell_type": "code",
   "execution_count": null,
   "id": "3a57902f",
   "metadata": {},
   "outputs": [],
   "source": []
  }
 ],
 "metadata": {
  "kernelspec": {
   "display_name": "Python 3 (ipykernel)",
   "language": "python",
   "name": "python3"
  },
  "language_info": {
   "codemirror_mode": {
    "name": "ipython",
    "version": 3
   },
   "file_extension": ".py",
   "mimetype": "text/x-python",
   "name": "python",
   "nbconvert_exporter": "python",
   "pygments_lexer": "ipython3",
   "version": "3.8.10"
  }
 },
 "nbformat": 4,
 "nbformat_minor": 5
}
