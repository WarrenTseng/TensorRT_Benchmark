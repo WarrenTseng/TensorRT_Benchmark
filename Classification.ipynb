{
 "cells": [
  {
   "cell_type": "code",
   "execution_count": null,
   "id": "67281f60",
   "metadata": {
    "scrolled": true
   },
   "outputs": [],
   "source": [
    "# !pip install monai pycuda einops seaborn ipywidgets widgetsnbextension pandas-profiling ultralytics"
   ]
  },
  {
   "cell_type": "markdown",
   "id": "205b8a04",
   "metadata": {},
   "source": [
    "## Create a model and export it as ONNX"
   ]
  },
  {
   "cell_type": "code",
   "execution_count": null,
   "id": "5fb50e6d",
   "metadata": {},
   "outputs": [],
   "source": [
    "import monai\n",
    "import torch\n",
    "\n",
    "batch_size = 1\n",
    "device = 'cuda'\n",
    "model = monai.networks.nets.DenseNet201(spatial_dims=2,\n",
    "                                        in_channels=3,\n",
    "                                        out_channels=10).to(device)"
   ]
  },
  {
   "cell_type": "markdown",
   "id": "5365f8e9",
   "metadata": {},
   "source": [
    "After training..."
   ]
  },
  {
   "cell_type": "code",
   "execution_count": null,
   "id": "95b65e24",
   "metadata": {},
   "outputs": [],
   "source": [
    "torch.save(model.state_dict(), './models/cls.pt')"
   ]
  },
  {
   "cell_type": "code",
   "execution_count": null,
   "id": "5d018fa4",
   "metadata": {},
   "outputs": [],
   "source": [
    "dummy_input = torch.randn(batch_size, 3, 256, 256).to(device)\n",
    "\n",
    "with torch.no_grad():\n",
    "    print(model(dummy_input).shape)\n",
    "\n",
    "torch.onnx.export(model, dummy_input, './models/cls.onnx',",
    "                  input_names=["input0"],",
    "                  output_names = ["output0"],",
    "                  dynamic_axes={'input0':[0], 'output0':[0]})",
   ]
  },
  {
   "cell_type": "markdown",
   "id": "a269a1d1",
   "metadata": {},
   "source": [
    "## Convert the Torch model to Torch-TensorRT"
   ]
  },
  {
   "cell_type": "code",
   "execution_count": null,
   "id": "53a8d8cb",
   "metadata": {},
   "outputs": [],
   "source": [
    "# Restart the notebook kernel\n",
    "import os\n",
    "os._exit(00)"
   ]
  },
  {
   "cell_type": "code",
   "execution_count": null,
   "id": "c6908e12",
   "metadata": {},
   "outputs": [],
   "source": [
    "import torch_tensorrt\n",
    "import monai\n",
    "import torch\n",
    "\n",
    "batch_size = 32\n",
    "device = 'cuda'\n",
    "model = monai.networks.nets.DenseNet201(spatial_dims=2,\n",
    "                                        in_channels=3,\n",
    "                                        out_channels=10).to(device)\n",
    "model.load_state_dict(torch.load('./models/cls.pt'))\n",
    "\n",
    "# inputs = [torch_tensorrt.Input((32, 3, 256, 256))]\n",
    "# inputs = [torch_tensorrt.Input((64, 3, 256, 256))]\n",
    "\n",
    "inputs = [\n",
    "    torch_tensorrt.Input(\n",
    "        min_shape=[1, 3, 256, 256],\n",
    "        opt_shape=[32, 3, 256, 256],\n",
    "        max_shape=[256, 3, 256, 256],\n",
    "        dtype=torch.half,\n",
    "    )\n",
    "]"
   ]
  },
  {
   "cell_type": "code",
   "execution_count": null,
   "id": "cdded596",
   "metadata": {},
   "outputs": [],
   "source": [
    "model.eval()\n",
    "trt_model = torch_tensorrt.compile(model,\n",
    "                                   inputs=inputs,\n",
    "                                   enabled_precisions={torch_tensorrt.dtype.half})\n",
    "torch.jit.save(trt_model, 'models/cls_torchtrt.ts')"
   ]
  },
  {
   "cell_type": "markdown",
   "id": "5acfe3ab",
   "metadata": {},
   "source": [
    "## Convert the ONNX model to TensorRT engine"
   ]
  },
  {
   "cell_type": "code",
   "execution_count": null,
   "id": "2a57444c",
   "metadata": {},
   "outputs": [],
   "source": [
    "# Restart the notebook kernel\n",
    "import os\n",
    "os._exit(00)"
   ]
  },
  {
   "cell_type": "markdown",
   "id": "df278b5c",
   "metadata": {},
   "source": [
    "- Convert to FP32 engine"
   ]
  },
  {
   "cell_type": "code",
   "execution_count": null,
   "id": "d027f06e",
   "metadata": {
    "scrolled": true
   },
   "outputs": [],
   "source": [
    "!trtexec --onnx=./models/cls.onnx --saveEngine=./models/cls_32.engine "
   ]
  },
  {
   "cell_type": "markdown",
   "id": "205853fc",
   "metadata": {},
   "source": [
    "- Convert to FP16 engine"
   ]
  },
  {
   "cell_type": "code",
   "execution_count": null,
   "id": "5d2e1cf5",
   "metadata": {
    "scrolled": true
   },
   "outputs": [],
   "source": [
    "!trtexec --onnx=./models/cls.onnx --saveEngine=./models/cls_16.engine --fp16 "
   ]
  },
  {
   "cell_type": "markdown",
   "id": "5d32749d",
   "metadata": {},
   "source": [
    "## Benchmark"
   ]
  },
  {
   "cell_type": "code",
   "execution_count": null,
   "id": "de120fc1",
   "metadata": {},
   "outputs": [],
   "source": [
    "from benchmark import NativeTorchBenchmark, TensorRTBehcnmark, TorchScriptBenchmark, TorchTensorRTBenchmark\n",
    "import numpy as np\n",
    "import monai\n",
    "\n",
    "n_infers = 100\n",
    "batch_size = 64\n",
    "input_image = np.random.normal(size=[batch_size, 3, 256, 256])"
   ]
  },
  {
   "cell_type": "markdown",
   "id": "2496f05f",
   "metadata": {},
   "source": [
    "- Native PyTorch"
   ]
  },
  {
   "cell_type": "code",
   "execution_count": null,
   "id": "02d07edd",
   "metadata": {},
   "outputs": [],
   "source": [
    "model = monai.networks.nets.DenseNet201(spatial_dims=2,\n",
    "                                        in_channels=3,\n",
    "                                        out_channels=10)\n",
    "\n",
    "pt_bm = NativeTorchBenchmark(n_infers=n_infers,\n",
    "                             batch_size=batch_size,\n",
    "                             samples=input_image,\n",
    "                             model_arch=model,\n",
    "                             model_ckpt='./models/cls.pt')"
   ]
  },
  {
   "cell_type": "code",
   "execution_count": null,
   "id": "a1741cab",
   "metadata": {},
   "outputs": [],
   "source": [
    "pt_bm.benchmark()"
   ]
  },
  {
   "cell_type": "markdown",
   "id": "839669c5",
   "metadata": {},
   "source": [
    "- Torch Script"
   ]
  },
  {
   "cell_type": "code",
   "execution_count": null,
   "id": "3b4279e6",
   "metadata": {},
   "outputs": [],
   "source": [
    "model = monai.networks.nets.DenseNet201(spatial_dims=2,\n",
    "                                        in_channels=3,\n",
    "                                        out_channels=10)\n",
    "\n",
    "ts_bm = TorchScriptBenchmark(n_infers=n_infers,\n",
    "                             batch_size=batch_size,\n",
    "                             samples=input_image,\n",
    "                             model_arch=model,\n",
    "                             model_ckpt='./models/cls.pt')"
   ]
  },
  {
   "cell_type": "code",
   "execution_count": null,
   "id": "93e72edc",
   "metadata": {},
   "outputs": [],
   "source": [
    "ts_bm.benchmark()"
   ]
  },
  {
   "cell_type": "markdown",
   "id": "c54807ad",
   "metadata": {},
   "source": [
    "- Torch-TensorRT (FP16)"
   ]
  },
  {
   "cell_type": "code",
   "execution_count": null,
   "id": "00856aba",
   "metadata": {},
   "outputs": [],
   "source": [
    "ts_trt_bm = TorchTensorRTBenchmark(n_infers=n_infers,\n",
    "                                   batch_size=batch_size,\n",
    "                                   samples=input_image,\n",
    "                                   model_path='./models/cls_torchtrt.ts')"
   ]
  },
  {
   "cell_type": "code",
   "execution_count": null,
   "id": "383de2eb",
   "metadata": {},
   "outputs": [],
   "source": [
    "ts_trt_bm.benchmark()"
   ]
  },
  {
   "cell_type": "markdown",
   "id": "9fd20321",
   "metadata": {},
   "source": [
    "- TensorRT FP32"
   ]
  },
  {
   "cell_type": "code",
   "execution_count": null,
   "id": "569dfbde",
   "metadata": {},
   "outputs": [],
   "source": [
    "trt_bm_fp32 = TensorRTBehcnmark(n_infers=n_infers,\n",
    "                                batch_size=batch_size,\n",
    "                                samples=input_image,\n",
    "                                engine_path='./models/cls_32.engine')"
   ]
  },
  {
   "cell_type": "code",
   "execution_count": null,
   "id": "e8912239",
   "metadata": {},
   "outputs": [],
   "source": [
    "trt_bm_fp32.benchmark()"
   ]
  },
  {
   "cell_type": "markdown",
   "id": "bfe7c072",
   "metadata": {},
   "source": [
    "- TensorRT FP16"
   ]
  },
  {
   "cell_type": "code",
   "execution_count": null,
   "id": "ab410615",
   "metadata": {},
   "outputs": [],
   "source": [
    "trt_bm_fp16 = TensorRTBehcnmark(n_infers=n_infers,\n",
    "                                batch_size=batch_size,\n",
    "                                samples=input_image,\n",
    "                                engine_path='./models/cls_16.engine')"
   ]
  },
  {
   "cell_type": "code",
   "execution_count": null,
   "id": "76168533",
   "metadata": {},
   "outputs": [],
   "source": [
    "trt_bm_fp16.benchmark()"
   ]
  },
  {
   "cell_type": "code",
   "execution_count": null,
   "id": "6340f4c2",
   "metadata": {},
   "outputs": [],
   "source": []
  }
 ],
 "metadata": {
  "kernelspec": {
   "display_name": "Python 3 (ipykernel)",
   "language": "python",
   "name": "python3"
  },
  "language_info": {
   "codemirror_mode": {
    "name": "ipython",
    "version": 3
   },
   "file_extension": ".py",
   "mimetype": "text/x-python",
   "name": "python",
   "nbconvert_exporter": "python",
   "pygments_lexer": "ipython3",
   "version": "3.8.13"
  }
 },
 "nbformat": 4,
 "nbformat_minor": 5
}
