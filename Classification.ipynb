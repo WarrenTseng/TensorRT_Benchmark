{
 "cells": [
  {
   "cell_type": "code",
   "execution_count": null,
   "id": "2ae96c94",
   "metadata": {
    "scrolled": true
   },
   "outputs": [],
   "source": [
    "# !pip install monai pycuda einops"
   ]
  },
  {
   "cell_type": "markdown",
   "id": "4adcb354",
   "metadata": {},
   "source": [
    "## Create a model and export it as ONNX"
   ]
  },
  {
   "cell_type": "code",
   "execution_count": null,
   "id": "f9f8121f",
   "metadata": {},
   "outputs": [],
   "source": [
    "import monai\n",
    "import torch\n",
    "\n",
    "batch_size = 32\n",
    "device = 'cuda'\n",
    "model = monai.networks.nets.DenseNet201(spatial_dims=2,\n",
    "                                        in_channels=3,\n",
    "                                        out_channels=10).to(device)"
   ]
  },
  {
   "cell_type": "markdown",
   "id": "00ffe499",
   "metadata": {},
   "source": [
    "After training..."
   ]
  },
  {
   "cell_type": "code",
   "execution_count": null,
   "id": "b716851b",
   "metadata": {},
   "outputs": [],
   "source": [
    "torch.save(model.state_dict(), './models/cls.pt')"
   ]
  },
  {
   "cell_type": "code",
   "execution_count": null,
   "id": "c779f280",
   "metadata": {},
   "outputs": [],
   "source": [
    "dummy_input = torch.randn(batch_size, 3, 256, 256).to(device)\n",
    "\n",
    "with torch.no_grad():\n",
    "    print(model(dummy_input).shape)\n",
    "\n",
    "torch.onnx.export(model, dummy_input, './models/cls.onnx')"
   ]
  },
  {
   "cell_type": "markdown",
   "id": "6096b212",
   "metadata": {},
   "source": [
    "## Convert the ONNX model to TensorRT engine"
   ]
  },
  {
   "cell_type": "code",
   "execution_count": null,
   "id": "1f794160",
   "metadata": {},
   "outputs": [],
   "source": [
    "# Restart notebook kernel\n",
    "import os\n",
    "os._exit(00)"
   ]
  },
  {
   "cell_type": "markdown",
   "id": "7a25ffec",
   "metadata": {},
   "source": [
    "- Convert to FP32 engine"
   ]
  },
  {
   "cell_type": "code",
   "execution_count": null,
   "id": "62d7e247",
   "metadata": {
    "scrolled": true
   },
   "outputs": [],
   "source": [
    "!trtexec --onnx=./models/cls.onnx --saveEngine=./models/cls_32.engine "
   ]
  },
  {
   "cell_type": "markdown",
   "id": "2a1e973d",
   "metadata": {},
   "source": [
    "- Convert to FP16 engine"
   ]
  },
  {
   "cell_type": "code",
   "execution_count": null,
   "id": "7ec0f595",
   "metadata": {
    "scrolled": true
   },
   "outputs": [],
   "source": [
    "!trtexec --onnx=./models/cls.onnx --saveEngine=./models/cls_16.engine --fp16 "
   ]
  },
  {
   "cell_type": "markdown",
   "id": "e03df711",
   "metadata": {},
   "source": [
    "## Benchmark"
   ]
  },
  {
   "cell_type": "code",
   "execution_count": null,
   "id": "c6e5e404",
   "metadata": {},
   "outputs": [],
   "source": [
    "from benchmark import NativeTorchBenchmark, TensorRTBehcnmark, TorchScriptBenchmark\n",
    "import numpy as np\n",
    "import monai\n",
    "\n",
    "n_infers = 100\n",
    "batch_size = 32\n",
    "input_image = np.random.normal(size=[batch_size, 3, 256, 256])"
   ]
  },
  {
   "cell_type": "markdown",
   "id": "75201b40",
   "metadata": {},
   "source": [
    "- Native PyTorch"
   ]
  },
  {
   "cell_type": "code",
   "execution_count": null,
   "id": "89848552",
   "metadata": {},
   "outputs": [],
   "source": [
    "model = monai.networks.nets.DenseNet201(spatial_dims=2,\n",
    "                                        in_channels=3,\n",
    "                                        out_channels=10)\n",
    "\n",
    "pt_bm = NativeTorchBenchmark(n_infers=n_infers,\n",
    "                             batch_size=batch_size,\n",
    "                             samples=input_image,\n",
    "                             model_arch=model,\n",
    "                             model_ckpt='./models/cls.pt')"
   ]
  },
  {
   "cell_type": "code",
   "execution_count": null,
   "id": "c0372bff",
   "metadata": {},
   "outputs": [],
   "source": [
    "pt_bm.benchmark()"
   ]
  },
  {
   "cell_type": "markdown",
   "id": "864d1301",
   "metadata": {},
   "source": [
    "- Torch Script"
   ]
  },
  {
   "cell_type": "code",
   "execution_count": null,
   "id": "80b0d8bc",
   "metadata": {},
   "outputs": [],
   "source": [
    "model = monai.networks.nets.DenseNet201(spatial_dims=2,\n",
    "                                        in_channels=3,\n",
    "                                        out_channels=10)\n",
    "\n",
    "ts_bm = TorchScriptBenchmark(n_infers=n_infers,\n",
    "                             batch_size=batch_size,\n",
    "                             samples=input_image,\n",
    "                             model_arch=model,\n",
    "                             model_ckpt='./models/cls.pt')"
   ]
  },
  {
   "cell_type": "code",
   "execution_count": null,
   "id": "bd0d52d7",
   "metadata": {},
   "outputs": [],
   "source": [
    "ts_bm.benchmark()"
   ]
  },
  {
   "cell_type": "markdown",
   "id": "19e8ac3e",
   "metadata": {},
   "source": [
    "- TensorRT FP32"
   ]
  },
  {
   "cell_type": "code",
   "execution_count": null,
   "id": "a4184eb3",
   "metadata": {},
   "outputs": [],
   "source": [
    "trt_bm_fp32 = TensorRTBehcnmark(n_infers=n_infers,\n",
    "                                batch_size=batch_size,\n",
    "                                samples=input_image,\n",
    "                                engine_path='./models/cls_32.engine')"
   ]
  },
  {
   "cell_type": "code",
   "execution_count": null,
   "id": "2b95a7d5",
   "metadata": {},
   "outputs": [],
   "source": [
    "trt_bm_fp32.benchmark()"
   ]
  },
  {
   "cell_type": "markdown",
   "id": "2a7a9974",
   "metadata": {},
   "source": [
    "- TensorRT FP16"
   ]
  },
  {
   "cell_type": "code",
   "execution_count": null,
   "id": "166e96f2",
   "metadata": {},
   "outputs": [],
   "source": [
    "trt_bm_fp16 = TensorRTBehcnmark(n_infers=n_infers,\n",
    "                                batch_size=batch_size,\n",
    "                                samples=input_image,\n",
    "                                engine_path='./models/cls_16.engine')"
   ]
  },
  {
   "cell_type": "code",
   "execution_count": null,
   "id": "01cc00eb",
   "metadata": {},
   "outputs": [],
   "source": [
    "trt_bm_fp16.benchmark()"
   ]
  },
  {
   "cell_type": "code",
   "execution_count": null,
   "id": "6ff1d785",
   "metadata": {},
   "outputs": [],
   "source": []
  }
 ],
 "metadata": {
  "kernelspec": {
   "display_name": "Python 3 (ipykernel)",
   "language": "python",
   "name": "python3"
  },
  "language_info": {
   "codemirror_mode": {
    "name": "ipython",
    "version": 3
   },
   "file_extension": ".py",
   "mimetype": "text/x-python",
   "name": "python",
   "nbconvert_exporter": "python",
   "pygments_lexer": "ipython3",
   "version": "3.8.10"
  }
 },
 "nbformat": 4,
 "nbformat_minor": 5
}
