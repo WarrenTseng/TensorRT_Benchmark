{
 "cells": [
  {
   "cell_type": "markdown",
   "id": "69f7925f",
   "metadata": {},
   "source": [
    "## Create a model and export it as ONNX"
   ]
  },
  {
   "cell_type": "code",
   "execution_count": null,
   "id": "c9bd77d8",
   "metadata": {},
   "outputs": [],
   "source": [
    "import monai\n",
    "import torch\n",
    "\n",
    "batch_size = 1\n",
    "device = 'cuda'\n",
    "model = monai.networks.nets.SegResNet(spatial_dims=3,\n",
    "                                      in_channels=1,\n",
    "                                      out_channels=3,\n",
    "                                      init_filters=24).to(device)"
   ]
  },
  {
   "cell_type": "markdown",
   "id": "2ced82cc",
   "metadata": {},
   "source": [
    "After training..."
   ]
  },
  {
   "cell_type": "code",
   "execution_count": null,
   "id": "ebdda6a6",
   "metadata": {},
   "outputs": [],
   "source": [
    "torch.save(model.state_dict(), './models/seg.pt')"
   ]
  },
  {
   "cell_type": "code",
   "execution_count": null,
   "id": "45a5b0f8",
   "metadata": {},
   "outputs": [],
   "source": [
    "dummy_input = torch.randn(batch_size, 1, 224, 224, 128).to(device)\n",
    "\n",
    "with torch.no_grad():\n",
    "    print(model(dummy_input).shape)\n",
    "\n",
    "torch.onnx.export(model, dummy_input, './models/seg.onnx')"
   ]
  },
  {
   "cell_type": "markdown",
   "id": "25967b7c",
   "metadata": {},
   "source": [
    "## Convert the ONNX model to TensorRT engine"
   ]
  },
  {
   "cell_type": "code",
   "execution_count": null,
   "id": "bdb294de",
   "metadata": {},
   "outputs": [],
   "source": [
    "# Restart notebook kernel\n",
    "import os\n",
    "os._exit(00)"
   ]
  },
  {
   "cell_type": "markdown",
   "id": "f9304f74",
   "metadata": {},
   "source": [
    "- Convert to FP32 engine"
   ]
  },
  {
   "cell_type": "code",
   "execution_count": null,
   "id": "20ebe6d4",
   "metadata": {
    "scrolled": true
   },
   "outputs": [],
   "source": [
    "!trtexec --onnx=./models/seg.onnx --saveEngine=./models/seg_32.engine "
   ]
  },
  {
   "cell_type": "markdown",
   "id": "e7e8b820",
   "metadata": {},
   "source": [
    "- Convert to FP16 engine"
   ]
  },
  {
   "cell_type": "code",
   "execution_count": null,
   "id": "d1c26cad",
   "metadata": {
    "scrolled": true
   },
   "outputs": [],
   "source": [
    "!trtexec --onnx=./models/seg.onnx --saveEngine=./models/seg_16.engine --fp16 "
   ]
  },
  {
   "cell_type": "markdown",
   "id": "a78f8f5d",
   "metadata": {},
   "source": [
    "## Benchmark"
   ]
  },
  {
   "cell_type": "code",
   "execution_count": null,
   "id": "7dbebcc0",
   "metadata": {},
   "outputs": [],
   "source": [
    "from benchmark import NativeTorchBenchmark, TensorRTBehcnmark, TorchScriptBenchmark\n",
    "import numpy as np\n",
    "import monai\n",
    "\n",
    "n_infers = 10\n",
    "batch_size = 1\n",
    "input_image = np.random.normal(size=[batch_size, 1, 224, 224, 128])"
   ]
  },
  {
   "cell_type": "markdown",
   "id": "122e8bbe",
   "metadata": {},
   "source": [
    "- Native PyTorch"
   ]
  },
  {
   "cell_type": "code",
   "execution_count": null,
   "id": "dd816382",
   "metadata": {},
   "outputs": [],
   "source": [
    "model = monai.networks.nets.SegResNet(spatial_dims=3,\n",
    "                                      in_channels=1,\n",
    "                                      out_channels=3,\n",
    "                                      init_filters=24)\n",
    "\n",
    "pt_bm = NativeTorchBenchmark(n_infers=n_infers,\n",
    "                             batch_size=batch_size,\n",
    "                             samples=input_image,\n",
    "                             model_arch=model,\n",
    "                             model_ckpt='./models/seg.pt')"
   ]
  },
  {
   "cell_type": "code",
   "execution_count": null,
   "id": "6f20fbab",
   "metadata": {},
   "outputs": [],
   "source": [
    "pt_bm.benchmark()"
   ]
  },
  {
   "cell_type": "markdown",
   "id": "7327bab4",
   "metadata": {},
   "source": [
    "- Torch Script"
   ]
  },
  {
   "cell_type": "code",
   "execution_count": null,
   "id": "03efb813",
   "metadata": {},
   "outputs": [],
   "source": [
    "model = monai.networks.nets.SegResNet(spatial_dims=3,\n",
    "                                      in_channels=1,\n",
    "                                      out_channels=3,\n",
    "                                      init_filters=24)\n",
    "\n",
    "ts_bm = TorchScriptBenchmark(n_infers=n_infers,\n",
    "                             batch_size=batch_size,\n",
    "                             samples=input_image,\n",
    "                             model_arch=model,\n",
    "                             model_ckpt='./models/seg.pt')"
   ]
  },
  {
   "cell_type": "code",
   "execution_count": null,
   "id": "997de13e",
   "metadata": {},
   "outputs": [],
   "source": [
    "ts_bm.benchmark()"
   ]
  },
  {
   "cell_type": "markdown",
   "id": "6072b3fe",
   "metadata": {},
   "source": [
    "- TensorRT FP32"
   ]
  },
  {
   "cell_type": "code",
   "execution_count": null,
   "id": "5e73cb27",
   "metadata": {},
   "outputs": [],
   "source": [
    "trt_bm_fp32 = TensorRTBehcnmark(n_infers=n_infers,\n",
    "                                batch_size=batch_size,\n",
    "                                samples=input_image,\n",
    "                                engine_path='./models/seg_32.engine')"
   ]
  },
  {
   "cell_type": "code",
   "execution_count": null,
   "id": "fb6338df",
   "metadata": {},
   "outputs": [],
   "source": [
    "trt_bm_fp32.benchmark()"
   ]
  },
  {
   "cell_type": "markdown",
   "id": "3d1d8b85",
   "metadata": {},
   "source": [
    "- TensorRT FP16"
   ]
  },
  {
   "cell_type": "code",
   "execution_count": null,
   "id": "7cbc8996",
   "metadata": {},
   "outputs": [],
   "source": [
    "trt_bm_fp16 = TensorRTBehcnmark(n_infers=n_infers,\n",
    "                                batch_size=batch_size,\n",
    "                                samples=input_image,\n",
    "                                engine_path='./models/seg_16.engine')"
   ]
  },
  {
   "cell_type": "code",
   "execution_count": null,
   "id": "e37ac825",
   "metadata": {},
   "outputs": [],
   "source": [
    "trt_bm_fp16.benchmark()"
   ]
  },
  {
   "cell_type": "code",
   "execution_count": null,
   "id": "483b7aba",
   "metadata": {},
   "outputs": [],
   "source": []
  }
 ],
 "metadata": {
  "kernelspec": {
   "display_name": "Python 3 (ipykernel)",
   "language": "python",
   "name": "python3"
  },
  "language_info": {
   "codemirror_mode": {
    "name": "ipython",
    "version": 3
   },
   "file_extension": ".py",
   "mimetype": "text/x-python",
   "name": "python",
   "nbconvert_exporter": "python",
   "pygments_lexer": "ipython3",
   "version": "3.8.10"
  }
 },
 "nbformat": 4,
 "nbformat_minor": 5
}
