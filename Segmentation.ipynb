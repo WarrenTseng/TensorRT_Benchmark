{
 "cells": [
  {
   "cell_type": "code",
   "execution_count": null,
   "id": "009e21ee",
   "metadata": {
    "scrolled": true
   },
   "outputs": [],
   "source": [
    "# !pip install monai pycuda einops"
   ]
  },
  {
   "cell_type": "markdown",
   "id": "bd5a7b33",
   "metadata": {},
   "source": [
    "## Create a model and export it as ONNX"
   ]
  },
  {
   "cell_type": "code",
   "execution_count": null,
   "id": "a52cd056",
   "metadata": {},
   "outputs": [],
   "source": [
    "import monai\n",
    "import torch\n",
    "\n",
    "batch_size = 1\n",
    "device = 'cuda'\n",
    "model = monai.networks.nets.SegResNet(spatial_dims=3,\n",
    "                                      in_channels=1,\n",
    "                                      out_channels=3,\n",
    "                                      init_filters=24).to(device)"
   ]
  },
  {
   "cell_type": "markdown",
   "id": "7525c099",
   "metadata": {},
   "source": [
    "After training..."
   ]
  },
  {
   "cell_type": "code",
   "execution_count": null,
   "id": "fd8b9333",
   "metadata": {},
   "outputs": [],
   "source": [
    "torch.save(model.state_dict(), './models/seg.pt')"
   ]
  },
  {
   "cell_type": "code",
   "execution_count": null,
   "id": "9a152230",
   "metadata": {},
   "outputs": [],
   "source": [
    "dummy_input = torch.randn(batch_size, 1, 224, 224, 128).to(device)\n",
    "\n",
    "with torch.no_grad():\n",
    "    print(model(dummy_input).shape)\n",
    "\n",
    "torch.onnx.export(model, dummy_input, './models/seg.onnx')"
   ]
  },
  {
   "cell_type": "markdown",
   "id": "e964cfb7",
   "metadata": {},
   "source": [
    "## Convert the ONNX model to TensorRT engine"
   ]
  },
  {
   "cell_type": "code",
   "execution_count": null,
   "id": "ba005c24",
   "metadata": {},
   "outputs": [],
   "source": [
    "# Restart notebook kernel\n",
    "import os\n",
    "os._exit(00)"
   ]
  },
  {
   "cell_type": "markdown",
   "id": "06fc640e",
   "metadata": {},
   "source": [
    "- Convert to FP32 engine"
   ]
  },
  {
   "cell_type": "code",
   "execution_count": null,
   "id": "6eed7a76",
   "metadata": {
    "scrolled": true
   },
   "outputs": [],
   "source": [
    "!trtexec --onnx=./models/seg.onnx --saveEngine=./models/seg_32.engine "
   ]
  },
  {
   "cell_type": "markdown",
   "id": "5528d663",
   "metadata": {},
   "source": [
    "- Convert to FP16 engine"
   ]
  },
  {
   "cell_type": "code",
   "execution_count": null,
   "id": "daa33aac",
   "metadata": {
    "scrolled": true
   },
   "outputs": [],
   "source": [
    "!trtexec --onnx=./models/seg.onnx --saveEngine=./models/seg_16.engine --fp16 "
   ]
  },
  {
   "cell_type": "markdown",
   "id": "d6ab6608",
   "metadata": {},
   "source": [
    "## Benchmark"
   ]
  },
  {
   "cell_type": "code",
   "execution_count": 1,
   "id": "96c4df41",
   "metadata": {},
   "outputs": [],
   "source": [
    "from benchmark import NativeTorchBenchmark, TensorRTBehcnmark\n",
    "import numpy as np\n",
    "import monai\n",
    "\n",
    "n_infers = 100\n",
    "batch_size = 1\n",
    "input_image = np.random.normal(size=[batch_size, 1, 224, 224, 128])"
   ]
  },
  {
   "cell_type": "markdown",
   "id": "19dd52b4",
   "metadata": {},
   "source": [
    "- Native PyTorch"
   ]
  },
  {
   "cell_type": "code",
   "execution_count": 2,
   "id": "82e81ae2",
   "metadata": {},
   "outputs": [],
   "source": [
    "model = monai.networks.nets.SegResNet(spatial_dims=3,\n",
    "                                      in_channels=1,\n",
    "                                      out_channels=3,\n",
    "                                      init_filters=24)\n",
    "\n",
    "pt_bm = NativeTorchBenchmark(n_infers=n_infers,\n",
    "                             batch_size=batch_size,\n",
    "                             samples=input_image,\n",
    "                             model_arch=model,\n",
    "                             model_ckpt='./models/seg.pt')"
   ]
  },
  {
   "cell_type": "code",
   "execution_count": 3,
   "id": "d3bde390",
   "metadata": {},
   "outputs": [
    {
     "name": "stderr",
     "output_type": "stream",
     "text": [
      "100%|████████████████████████████████████████████████████████| 100/100 [00:56<00:00,  1.77it/s]"
     ]
    },
    {
     "name": "stdout",
     "output_type": "stream",
     "text": [
      "Throughputs (Native PyTorch): 1.7743\n"
     ]
    },
    {
     "name": "stderr",
     "output_type": "stream",
     "text": [
      "\n"
     ]
    }
   ],
   "source": [
    "pt_bm.benchmark()"
   ]
  },
  {
   "cell_type": "markdown",
   "id": "828be83c",
   "metadata": {},
   "source": [
    "- TensorRT FP32"
   ]
  },
  {
   "cell_type": "code",
   "execution_count": 4,
   "id": "2c047eff",
   "metadata": {},
   "outputs": [],
   "source": [
    "trt_bm_fp32 = TensorRTBehcnmark(n_infers=n_infers,\n",
    "                                batch_size=batch_size,\n",
    "                                samples=input_image,\n",
    "                                engine_path='./models/seg_32.engine')"
   ]
  },
  {
   "cell_type": "code",
   "execution_count": 5,
   "id": "27d6f166",
   "metadata": {},
   "outputs": [
    {
     "name": "stderr",
     "output_type": "stream",
     "text": [
      "100%|████████████████████████████████████████████████████████| 100/100 [00:39<00:00,  2.53it/s]"
     ]
    },
    {
     "name": "stdout",
     "output_type": "stream",
     "text": [
      "Throughputs: 2.5334\n"
     ]
    },
    {
     "name": "stderr",
     "output_type": "stream",
     "text": [
      "\n"
     ]
    }
   ],
   "source": [
    "trt_bm_fp32.benchmark()"
   ]
  },
  {
   "cell_type": "markdown",
   "id": "818cc582",
   "metadata": {},
   "source": [
    "- TensorRT FP16"
   ]
  },
  {
   "cell_type": "code",
   "execution_count": 6,
   "id": "8ed0bcf1",
   "metadata": {},
   "outputs": [],
   "source": [
    "trt_bm_fp16 = TensorRTBehcnmark(n_infers=n_infers,\n",
    "                                batch_size=batch_size,\n",
    "                                samples=input_image,\n",
    "                                engine_path='./models/seg_16.engine')"
   ]
  },
  {
   "cell_type": "code",
   "execution_count": 7,
   "id": "211b317e",
   "metadata": {},
   "outputs": [
    {
     "name": "stderr",
     "output_type": "stream",
     "text": [
      "100%|████████████████████████████████████████████████████████| 100/100 [00:22<00:00,  4.54it/s]"
     ]
    },
    {
     "name": "stdout",
     "output_type": "stream",
     "text": [
      "Throughputs: 4.543\n"
     ]
    },
    {
     "name": "stderr",
     "output_type": "stream",
     "text": [
      "\n"
     ]
    }
   ],
   "source": [
    "trt_bm_fp16.benchmark()"
   ]
  },
  {
   "cell_type": "code",
   "execution_count": null,
   "id": "5c933c30",
   "metadata": {},
   "outputs": [],
   "source": []
  }
 ],
 "metadata": {
  "kernelspec": {
   "display_name": "Python 3 (ipykernel)",
   "language": "python",
   "name": "python3"
  },
  "language_info": {
   "codemirror_mode": {
    "name": "ipython",
    "version": 3
   },
   "file_extension": ".py",
   "mimetype": "text/x-python",
   "name": "python",
   "nbconvert_exporter": "python",
   "pygments_lexer": "ipython3",
   "version": "3.8.10"
  }
 },
 "nbformat": 4,
 "nbformat_minor": 5
}
