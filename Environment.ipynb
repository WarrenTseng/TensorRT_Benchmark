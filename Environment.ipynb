{
 "cells": [
  {
   "cell_type": "code",
   "execution_count": null,
   "id": "bd237683",
   "metadata": {},
   "outputs": [],
   "source": [
    "# !pip install monai pycuda einops ultralytics"
   ]
  },
  {
   "cell_type": "code",
   "execution_count": 1,
   "id": "f806e7c0",
   "metadata": {},
   "outputs": [
    {
     "name": "stdout",
     "output_type": "stream",
     "text": [
      "TensorRT version: 8.6.1\n",
      "PyCuda version: (2022, 2, 2)\n",
      "Torch version: 2.1.0a0+fe05266\n",
      "MONAI version: 1.1.0\n"
     ]
    }
   ],
   "source": [
    "import tensorrt as trt\n",
    "import pycuda\n",
    "import torch\n",
    "import monai\n",
    "\n",
    "print('TensorRT version:', trt.__version__)\n",
    "print('PyCuda version:', pycuda.VERSION)\n",
    "print('Torch version:', torch.__version__)\n",
    "print('MONAI version:', monai.__version__)"
   ]
  },
  {
   "cell_type": "code",
   "execution_count": null,
   "id": "bd237683",
   "metadata": {},
   "outputs": [],
   "source": []
  }
 ],
 "metadata": {
  "kernelspec": {
   "display_name": "Python 3 (ipykernel)",
   "language": "python",
   "name": "python3"
  },
  "language_info": {
   "codemirror_mode": {
    "name": "ipython",
    "version": 3
   },
   "file_extension": ".py",
   "mimetype": "text/x-python",
   "name": "python",
   "nbconvert_exporter": "python",
   "pygments_lexer": "ipython3",
   "version": "3.8.10"
  }
 },
 "nbformat": 4,
 "nbformat_minor": 5
}
