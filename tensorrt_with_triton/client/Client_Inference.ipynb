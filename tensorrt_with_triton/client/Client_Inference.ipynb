{
 "cells": [
  {
   "cell_type": "markdown",
   "id": "f9801caf-bd03-4393-98f9-2eb92dbe563c",
   "metadata": {},
   "source": [
    "## Inference with Triton"
   ]
  },
  {
   "cell_type": "code",
   "execution_count": null,
   "id": "17726460-281d-4abc-9775-6c02189f0632",
   "metadata": {},
   "outputs": [],
   "source": [
    "import matplotlib.pyplot as plt\n",
    "from skimage.transform import resize\n",
    "import numpy as np\n",
    "import time\n",
    "import tritonclient\n",
    "import tritonclient.http as httpclient\n",
    "from tritonclient.utils import triton_to_np_dtype"
   ]
  },
  {
   "cell_type": "markdown",
   "id": "6cf99a1d-411c-48d4-a864-048b60cb64bb",
   "metadata": {},
   "source": [
    "### Check the model status on Triton"
   ]
  },
  {
   "cell_type": "code",
   "execution_count": null,
   "id": "fdb5b427-89a1-4012-8316-7bd54698c895",
   "metadata": {},
   "outputs": [],
   "source": [
    "URL = '10.176.0.221:8000'"
   ]
  },
  {
   "cell_type": "code",
   "execution_count": null,
   "id": "67ca7429-04aa-43e7-aa2b-59ef223b038b",
   "metadata": {},
   "outputs": [],
   "source": [
    "MODEL1 = 'cls_torch'\n",
    "!curl http://$URL/v2/models/$MODEL1/versions/1/stats"
   ]
  },
  {
   "cell_type": "code",
   "execution_count": null,
   "id": "39a3db3f-24d6-4a2d-9905-d2f3e1767287",
   "metadata": {},
   "outputs": [],
   "source": [
    "MODEL2 = 'cls_tensorrt'\n",
    "!curl http://$URL/v2/models/$MODEL1/versions/1/stats"
   ]
  },
  {
   "cell_type": "markdown",
   "id": "f480531b-b18f-44e7-b517-da06c14d525a",
   "metadata": {},
   "source": [
    "### Execute the Inference Service"
   ]
  },
  {
   "cell_type": "markdown",
   "id": "61f038d3-7518-44e5-8f58-fcf0f902786a",
   "metadata": {},
   "source": [
    "- Inference function"
   ]
  },
  {
   "cell_type": "code",
   "execution_count": null,
   "id": "063be5ed-746d-4cc8-8b48-c06ab61bc9d1",
   "metadata": {},
   "outputs": [],
   "source": [
    "client = httpclient\n",
    "client_inferer = client.InferenceServerClient(url=URL, verbose=0)\n",
    "\n",
    "def infer(data, model_name, input_name, output_name, priority=0):\n",
    "    inputs = [client.InferInput(input_name, data.shape, 'FP32')]\n",
    "    inputs[0].set_data_from_numpy(data)\n",
    "    outputs = [client.InferRequestedOutput(output_name, class_count=0)]\n",
    "    result = client_inferer.infer(\n",
    "            model_name=model_name,\n",
    "            inputs=inputs, \n",
    "            request_id=str(1),\n",
    "            model_version='1',\n",
    "            outputs=outputs,\n",
    "            priority=priority)\n",
    "    return result    "
   ]
  },
  {
   "cell_type": "markdown",
   "id": "2f568973-9705-4aa4-8980-bc5644f828b3",
   "metadata": {},
   "source": [
    "- Prepare data"
   ]
  },
  {
   "cell_type": "code",
   "execution_count": null,
   "id": "155eb3b2-f7cc-4c30-950e-491820deaf09",
   "metadata": {},
   "outputs": [],
   "source": [
    "batch_size = 32\n",
    "# Bring your own testing image\n",
    "# The dog image here is from https://www.google.com/search?q=dog+image&rlz=1C1GCEA_enTW1019TW1019&source=lnms&tbm=isch&sa=X&ved=2ahUKEwi4pvXmzr__AhVwmmoFHWciB0QQ_AUoAXoECAIQAw&biw=1536&bih=752&dpr=2.5#imgrc=PpmCvrB3OtU3hM\n",
    "inputs = resize(plt.imread('./dog.jpg'), [256, 256, 3])\n",
    "plt.imshow(inputs)\n",
    "plt.show()\n",
    "inputs = inputs.transpose([2, 0, 1]).astype('float32')\n",
    "inputs = np.array([inputs for i in range(batch_size)])\n",
    "inputs.shape"
   ]
  },
  {
   "cell_type": "markdown",
   "id": "89884f34-696a-45e6-930b-b8cbb0e0a8f6",
   "metadata": {},
   "source": [
    "- TorchScript Inference"
   ]
  },
  {
   "cell_type": "code",
   "execution_count": null,
   "id": "093df4ef-13b3-409a-bc06-35792c5613ac",
   "metadata": {},
   "outputs": [],
   "source": [
    "input_name = \"INPUT__0\"\n",
    "output_name = \"OUTPUT__0\"\n",
    "result1 = infer(inputs, MODEL1, input_name, output_name)"
   ]
  },
  {
   "cell_type": "code",
   "execution_count": null,
   "id": "4aca8230-1a21-4ab3-88e5-8e6458ec0dfb",
   "metadata": {},
   "outputs": [],
   "source": [
    "result1.as_numpy(output_name).shape, result1.as_numpy(output_name).argmax(1)"
   ]
  },
  {
   "cell_type": "markdown",
   "id": "c9f6f448-f87e-4dd6-a446-7e868d5363ee",
   "metadata": {},
   "source": [
    "- TensorRT Inference"
   ]
  },
  {
   "cell_type": "code",
   "execution_count": null,
   "id": "5fca413e-24c9-4ee4-9c35-21c22892ae33",
   "metadata": {},
   "outputs": [],
   "source": [
    "input_name = \"input0\"\n",
    "output_name = \"output0\"\n",
    "result2 = infer(inputs, MODEL2, input_name, output_name)"
   ]
  },
  {
   "cell_type": "code",
   "execution_count": null,
   "id": "fe213cbe-5a30-42b1-889b-11cadc642872",
   "metadata": {},
   "outputs": [],
   "source": [
    "result2.as_numpy(output_name).shape, result2.as_numpy(output_name).argmax(1)"
   ]
  },
  {
   "cell_type": "markdown",
   "id": "ea7d1dc4-6fa3-41fb-92c1-14c60df5bf8d",
   "metadata": {},
   "source": [
    "## Performance Analyzer"
   ]
  },
  {
   "cell_type": "markdown",
   "id": "ff74df93-a41f-439b-b3f4-541bf2166118",
   "metadata": {},
   "source": [
    "- TorchScript"
   ]
  },
  {
   "cell_type": "code",
   "execution_count": null,
   "id": "c5c2e82a-38f9-4bec-9571-98f9db7e152a",
   "metadata": {
    "scrolled": true
   },
   "outputs": [],
   "source": [
    "!perf_analyzer -m $MODEL1 \\\n",
    "               -u $URL \\\n",
    "               -b 32 \\\n",
    "               --percentile 95 \\\n",
    "               --concurrency-range 2:11:2 \\\n",
    "               --measurement-interval 5000"
   ]
  },
  {
   "cell_type": "markdown",
   "id": "fdb890a4-2c9d-4419-837c-fe51d653f5d1",
   "metadata": {},
   "source": [
    "- TensorRT"
   ]
  },
  {
   "cell_type": "code",
   "execution_count": null,
   "id": "7886054b-ad2f-4612-ba71-e5ad441d66fb",
   "metadata": {
    "scrolled": true
   },
   "outputs": [],
   "source": [
    "!perf_analyzer -m $MODEL2 \\\n",
    "               -u $URL \\\n",
    "               -b 32 \\\n",
    "               --percentile 95 \\\n",
    "               --concurrency-range 2:11:2 \\\n",
    "               --measurement-interval 5000"
   ]
  },
  {
   "cell_type": "code",
   "execution_count": null,
   "id": "380d2e80-2ffc-4c4a-81e1-a82d66abca50",
   "metadata": {},
   "outputs": [],
   "source": []
  }
 ],
 "metadata": {
  "kernelspec": {
   "display_name": "Python 3 (ipykernel)",
   "language": "python",
   "name": "python3"
  },
  "language_info": {
   "codemirror_mode": {
    "name": "ipython",
    "version": 3
   },
   "file_extension": ".py",
   "mimetype": "text/x-python",
   "name": "python",
   "nbconvert_exporter": "python",
   "pygments_lexer": "ipython3",
   "version": "3.8.10"
  }
 },
 "nbformat": 4,
 "nbformat_minor": 5
}
