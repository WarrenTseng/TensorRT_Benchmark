{
 "cells": [
  {
   "cell_type": "markdown",
   "id": "45288e39",
   "metadata": {},
   "source": [
    "### Create the repo structure and copy the TorchScript and TensorRT models into the repo"
   ]
  },
  {
   "cell_type": "code",
   "execution_count": null,
   "id": "81fdfddb",
   "metadata": {},
   "outputs": [],
   "source": [
    "!mkdir -p /repo/cls_torch/1\n",
    "!mkdir -p /repo/cls_tensorrt/1"
   ]
  },
  {
   "cell_type": "code",
   "execution_count": null,
   "id": "95e8486c",
   "metadata": {},
   "outputs": [],
   "source": [
    "!cp ./models/cls.pt /repo/cls_torch/1/model.pt\n",
    "!cp ./models/cls.plan /repo/cls_tensorrt/1/model.plan"
   ]
  },
  {
   "cell_type": "markdown",
   "id": "8ac74e31",
   "metadata": {},
   "source": [
    "### Find the input and output names of TensorRT from ONNX model"
   ]
  },
  {
   "cell_type": "code",
   "execution_count": null,
   "id": "233277a5",
   "metadata": {},
   "outputs": [],
   "source": [
    "import tensorrt as trt\n",
    "TRT_LOGGER = trt.Logger(trt.Logger.WARNING)\n",
    "\n",
    "EXPLICIT_BATCH = 1 << (int)(trt.NetworkDefinitionCreationFlag.EXPLICIT_BATCH)\n",
    "\n",
    "builder = trt.Builder(TRT_LOGGER)\n",
    "network = builder.create_network(EXPLICIT_BATCH)\n",
    "parser = trt.OnnxParser(network, TRT_LOGGER)\n",
    "with open('./models/cls.onnx', 'rb') as model:\n",
    "    parser.parse(model.read())"
   ]
  },
  {
   "cell_type": "code",
   "execution_count": null,
   "id": "442d16f4",
   "metadata": {},
   "outputs": [],
   "source": [
    "inputs = network.get_input(0)\n",
    "inputs.name, inputs.shape"
   ]
  },
  {
   "cell_type": "code",
   "execution_count": null,
   "id": "20eda1bd",
   "metadata": {},
   "outputs": [],
   "source": [
    "outputs = network.get_output(0)\n",
    "outputs.name, outputs.shape"
   ]
  },
  {
   "cell_type": "markdown",
   "id": "e86f7d92",
   "metadata": {},
   "source": [
    "### Preparing the configs"
   ]
  },
  {
   "cell_type": "markdown",
   "id": "41529a67",
   "metadata": {},
   "source": [
    "- TorchScript"
   ]
  },
  {
   "cell_type": "code",
   "execution_count": null,
   "id": "8ab2e5b9",
   "metadata": {},
   "outputs": [],
   "source": [
    "%%writefile /repo/cls_torch/config.pbtxt\n",
    "name: \"cls_torch\"\n",
    "platform: \"pytorch_libtorch\"\n",
    "max_batch_size: 32\n",
    "input [\n",
    "    {\n",
    "      name: \"INPUT__0\"\n",
    "      data_type: TYPE_FP32\n",
    "      dims: [ 3, 256, 256 ]\n",
    "    }\n",
    "]\n",
    "output [\n",
    "    {\n",
    "      name: \"OUTPUT__0\"\n",
    "      data_type: TYPE_FP32\n",
    "      dims: [ 1000 ]\n",
    "    }\n",
    "]\n",
    "instance_group [\n",
    "    {\n",
    "      kind: KIND_GPU\n",
    "      count: 1\n",
    "    }\n",
    "]"
   ]
  },
  {
   "cell_type": "markdown",
   "id": "e290e975",
   "metadata": {},
   "source": [
    "- TensorRT"
   ]
  },
  {
   "cell_type": "code",
   "execution_count": null,
   "id": "9013c2e1",
   "metadata": {},
   "outputs": [],
   "source": [
    "%%writefile /repo/cls_tensorrt/config.pbtxt\n",
    "name: \"cls_tensorrt\"\n",
    "platform: \"tensorrt_plan\"\n",
    "max_batch_size: 32\n",
    "input [\n",
    "    {\n",
    "      name: \"input0\"\n",
    "      data_type: TYPE_FP32\n",
    "      dims: [ 3, 256, 256 ]\n",
    "    }\n",
    "]\n",
    "output [\n",
    "    {\n",
    "      name: \"output0\"\n",
    "      data_type: TYPE_FP32\n",
    "      dims: [ 1000 ]\n",
    "    }\n",
    "]\n",
    "instance_group [\n",
    "    {\n",
    "      kind: KIND_GPU\n",
    "      count: 1\n",
    "    }\n",
    "]"
   ]
  },
  {
   "cell_type": "code",
   "execution_count": null,
   "id": "a119897a",
   "metadata": {},
   "outputs": [],
   "source": [
    "# %%writefile /repo/cls_tensorrt/config.pbtxt\n",
    "# name: \"cls_tensorrt\"\n",
    "# platform: \"tensorrt_plan\"\n",
    "# max_batch_size: 0\n",
    "# input [\n",
    "#     {\n",
    "#       name: \"input0\"\n",
    "#       data_type: TYPE_FP32\n",
    "#       dims: [ -1, 3, 256, 256 ]\n",
    "#     }\n",
    "# ]\n",
    "# output [\n",
    "#     {\n",
    "#       name: \"output0\"\n",
    "#       data_type: TYPE_FP32\n",
    "#       dims: [ -1, 1000 ]\n",
    "#     }\n",
    "# ]\n",
    "# instance_group [\n",
    "#     {\n",
    "#       kind: KIND_GPU\n",
    "#       count: 1\n",
    "#     }\n",
    "# ]\n",
    "# dynamic_batching {\n",
    "#     preferred_batch_size: [1, 32]\n",
    "#     max_queue_delay_microseconds: 100\n",
    "# }"
   ]
  }
 ],
 "metadata": {
  "kernelspec": {
   "display_name": "Python 3 (ipykernel)",
   "language": "python",
   "name": "python3"
  },
  "language_info": {
   "codemirror_mode": {
    "name": "ipython",
    "version": 3
   },
   "file_extension": ".py",
   "mimetype": "text/x-python",
   "name": "python",
   "nbconvert_exporter": "python",
   "pygments_lexer": "ipython3",
   "version": "3.8.10"
  }
 },
 "nbformat": 4,
 "nbformat_minor": 5
}
