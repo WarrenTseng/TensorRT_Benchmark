{
 "cells": [
  {
   "cell_type": "markdown",
   "id": "a210cec0",
   "metadata": {},
   "source": [
    "### Initialize the pre-trained ResNet50"
   ]
  },
  {
   "cell_type": "code",
   "execution_count": null,
   "id": "56dc6281",
   "metadata": {},
   "outputs": [],
   "source": [
    "import torch\n",
    "from torchvision.models import resnet50, ResNet50_Weights\n",
    "\n",
    "batch_size = 32\n",
    "device = 'cuda'\n",
    "model = resnet50(weights=ResNet50_Weights.IMAGENET1K_V2).to(device)"
   ]
  },
  {
   "cell_type": "markdown",
   "id": "ced9bf01",
   "metadata": {},
   "source": [
    "### Save it as TorchScript"
   ]
  },
  {
   "cell_type": "code",
   "execution_count": null,
   "id": "122a6525",
   "metadata": {},
   "outputs": [],
   "source": [
    "model_ts = torch.jit.script(model)\n",
    "torch.jit.save(model_ts, './models/cls.pt')"
   ]
  },
  {
   "cell_type": "markdown",
   "id": "002b5b5c",
   "metadata": {},
   "source": [
    "### Convert to TensorRT"
   ]
  },
  {
   "cell_type": "markdown",
   "id": "0b2a4e9e",
   "metadata": {},
   "source": [
    "- Export to ONNX format first"
   ]
  },
  {
   "cell_type": "code",
   "execution_count": null,
   "id": "11132f50",
   "metadata": {},
   "outputs": [],
   "source": [
    "dummy_input = torch.randn(batch_size, 3, 256, 256, dtype=torch.float32).to(device)\n",
    "\n",
    "with torch.no_grad():\n",
    "    print(model(dummy_input).shape)\n",
    "\n",
    "torch.onnx.export(model, dummy_input, './models/cls.onnx',\n",
    "                  input_names=['input0'],\n",
    "                  output_names = ['output0'])\n",
    "\n",
    "# torch.onnx.export(model, dummy_input, './models/cls.onnx',\n",
    "#                   input_names=['input0'],\n",
    "#                   output_names = ['output0'],\n",
    "#                   dynamic_axes={'input0':[0], 'output0':[0]})"
   ]
  },
  {
   "cell_type": "markdown",
   "id": "087ff98c",
   "metadata": {},
   "source": [
    "- TensorRT"
   ]
  },
  {
   "cell_type": "code",
   "execution_count": null,
   "id": "6704ce96",
   "metadata": {},
   "outputs": [],
   "source": [
    "# Restart the notebook kernel\n",
    "import os\n",
    "os._exit(00)"
   ]
  },
  {
   "cell_type": "code",
   "execution_count": null,
   "id": "0fe711e6",
   "metadata": {
    "scrolled": true
   },
   "outputs": [],
   "source": [
    "!trtexec --onnx=./models/cls.onnx --saveEngine=./models/cls.plan --fp16"
   ]
  },
  {
   "cell_type": "code",
   "execution_count": null,
   "id": "971c9078",
   "metadata": {},
   "outputs": [],
   "source": []
  }
 ],
 "metadata": {
  "kernelspec": {
   "display_name": "Python 3 (ipykernel)",
   "language": "python",
   "name": "python3"
  },
  "language_info": {
   "codemirror_mode": {
    "name": "ipython",
    "version": 3
   },
   "file_extension": ".py",
   "mimetype": "text/x-python",
   "name": "python",
   "nbconvert_exporter": "python",
   "pygments_lexer": "ipython3",
   "version": "3.8.10"
  }
 },
 "nbformat": 4,
 "nbformat_minor": 5
}
